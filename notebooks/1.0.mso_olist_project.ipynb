{
 "cells": [
  {
   "cell_type": "markdown",
   "metadata": {},
   "source": [
    "# 0.0 Imports"
   ]
  },
  {
   "cell_type": "code",
   "execution_count": 2,
   "metadata": {},
   "outputs": [],
   "source": [
    "import pandas as pd\n",
    "import numpy as np \n",
    "import os"
   ]
  },
  {
   "cell_type": "code",
   "execution_count": null,
   "metadata": {},
   "outputs": [],
   "source": []
  },
  {
   "cell_type": "markdown",
   "metadata": {},
   "source": [
    "## 0.1 Helper Functions"
   ]
  },
  {
   "cell_type": "markdown",
   "metadata": {},
   "source": [
    "## 0.2 Loading data"
   ]
  },
  {
   "cell_type": "code",
   "execution_count": 4,
   "metadata": {},
   "outputs": [
    {
     "data": {
      "text/plain": [
       "['olist_closed_deals_dataset.csv',\n",
       " 'archive (1).zip',\n",
       " '.gitkeep',\n",
       " 'product_category_name_translation.csv',\n",
       " 'olist_customers_dataset.csv',\n",
       " 'olist_products_dataset.csv',\n",
       " 'olist_order_reviews_dataset.csv',\n",
       " 'olist_order_payments_dataset.csv',\n",
       " 'olist_orders_dataset.csv',\n",
       " 'olist_order_items_dataset.csv',\n",
       " 'olist_sellers_dataset.csv',\n",
       " 'olist_marketing_qualified_leads_dataset.csv',\n",
       " 'olist_geolocation_dataset.csv',\n",
       " 'archive.zip']"
      ]
     },
     "execution_count": 4,
     "metadata": {},
     "output_type": "execute_result"
    }
   ],
   "source": [
    "os.listdir(\"../data/raw\")"
   ]
  },
  {
   "cell_type": "code",
   "execution_count": 9,
   "metadata": {},
   "outputs": [],
   "source": [
    "path = \"../data/raw/\"\n",
    "olist_customers = pd.read_csv(path + \"olist_customers_dataset.csv\", sep = \",\")\n",
    "product_category_name_translation = pd.read_csv(path + \"product_category_name_translation.csv\", sep = \",\")\n",
    "olist_products = pd.read_csv(path + 'olist_products_dataset.csv', sep = \",\")\n",
    "olist_order_reviews = pd.read_csv(path + 'olist_order_reviews_dataset.csv', sep = \",\")\n",
    "olist_order_payments = pd.read_csv(path + 'olist_order_payments_dataset.csv', sep = \",\")\n",
    "olist_orders = pd.read_csv(path + 'olist_orders_dataset.csv', sep = \",\")\n",
    "olist_order_items = pd.read_csv(path + 'olist_order_items_dataset.csv', sep = \",\")\n",
    "olist_sellers = pd.read_csv(path + 'olist_sellers_dataset.csv', sep = \",\")\n",
    "olist_marketing_qualified_leads = pd.read_csv(path + 'olist_marketing_qualified_leads_dataset.csv', sep = \",\")\n",
    "olist_geolocation = pd.read_csv(path + 'olist_geolocation_dataset.csv', sep = \",\")"
   ]
  },
  {
   "cell_type": "markdown",
   "metadata": {},
   "source": [
    "# 1.0 Data Description"
   ]
  },
  {
   "cell_type": "markdown",
   "metadata": {},
   "source": [
    "# 2.0 Feature Engineering"
   ]
  },
  {
   "cell_type": "markdown",
   "metadata": {},
   "source": [
    "# 3.0 Data Filtering"
   ]
  },
  {
   "cell_type": "markdown",
   "metadata": {},
   "source": [
    "# 4.0 EDA"
   ]
  },
  {
   "cell_type": "markdown",
   "metadata": {},
   "source": [
    "# 5.0 Data Preparation"
   ]
  },
  {
   "cell_type": "markdown",
   "metadata": {},
   "source": [
    "# 6.0 Feature Selection"
   ]
  },
  {
   "cell_type": "markdown",
   "metadata": {},
   "source": [
    "# 7.0 Machine Learning Modelling"
   ]
  },
  {
   "cell_type": "markdown",
   "metadata": {},
   "source": [
    "# 8.0 Hyperparameter Fine Tuning"
   ]
  },
  {
   "cell_type": "markdown",
   "metadata": {},
   "source": [
    "# 9.0 Translation and Interpretration Error"
   ]
  },
  {
   "cell_type": "markdown",
   "metadata": {},
   "source": []
  }
 ],
 "metadata": {
  "kernelspec": {
   "display_name": "Python 3.10.4 ('olist_project')",
   "language": "python",
   "name": "python3"
  },
  "language_info": {
   "codemirror_mode": {
    "name": "ipython",
    "version": 3
   },
   "file_extension": ".py",
   "mimetype": "text/x-python",
   "name": "python",
   "nbconvert_exporter": "python",
   "pygments_lexer": "ipython3",
   "version": "3.10.4"
  },
  "orig_nbformat": 4,
  "vscode": {
   "interpreter": {
    "hash": "61c13cfd8be65b55f75ff474a1902ebe5525fab45780c73da147d4b8dc716123"
   }
  }
 },
 "nbformat": 4,
 "nbformat_minor": 2
}
